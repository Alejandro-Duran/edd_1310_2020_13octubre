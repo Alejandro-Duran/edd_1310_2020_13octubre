{
  "nbformat": 4,
  "nbformat_minor": 0,
  "metadata": {
    "colab": {
      "name": "13octubreclase.ipynb",
      "provenance": [],
      "authorship_tag": "ABX9TyPZz98UIm7A/kU9jR/nFN/6",
      "include_colab_link": true
    },
    "kernelspec": {
      "name": "python3",
      "display_name": "Python 3"
    }
  },
  "cells": [
    {
      "cell_type": "markdown",
      "metadata": {
        "id": "view-in-github",
        "colab_type": "text"
      },
      "source": [
        "<a href=\"https://colab.research.google.com/github/Alejandro-Duran/edd_1310_2020_13octubre/blob/main/13octubreclase2.ipynb\" target=\"_parent\"><img src=\"https://colab.research.google.com/assets/colab-badge.svg\" alt=\"Open In Colab\"/></a>"
      ]
    },
    {
      "cell_type": "code",
      "metadata": {
        "id": "fFPz0jV1uo4q"
      },
      "source": [
        "alumno = { \n",
        "          \"num_cta\" : 303030303 ,\n",
        "          \"carrera\" : \"ICO\",\n",
        "          \"promedio\" : 9.8,\n",
        "          \"materias\" :[\"EDD\",\"CyP\",\"Calidad\",\"Emprendimiento\"],\n",
        "          \"direccion\" : { \n",
        "                            \"calle\":\"rancho seco\",\n",
        "                            \"numero\" : 23 ,\n",
        "                            \"delegacion\" : \"Neza\",\n",
        "                            \"estado\" : {\n",
        "                                        \"id\" : 15 ,\n",
        "                                        \"nombre\" : \"Estado de Máxico\" ,\n",
        "                                        \"nombre_corto\" : \"EdoMex\"\n",
        "                                        } ,\n",
        "                            \"CP\":57170\n",
        "\n",
        "                        } \n",
        "          }\n",
        "print(alumno)\n",
        "alumno[ \"carrera\" ]=\"Ingenieria en computación\" #cambiando datos en el diccionario\n",
        "print(alumno)\n",
        "alumno[\"nombre_completo\"]={\"primer\":\"Juan\",\n",
        "                           \"segundo\":\"Pedro\",\n",
        "                           \"materno\":\"Perez\",\n",
        "                           \"paterno\":\"Gomez\"}#agregando elemtos al  diccionario\n",
        "alumno[\"semestre\"]=3\n",
        "print(alumno)\n",
        "\n",
        "\n",
        "print(f\"{alumno['nombre_completo']['primer']} {alumno['nombre_completo']['segundo']}\")"
      ],
      "execution_count": null,
      "outputs": []
    },
    {
      "cell_type": "code",
      "metadata": {
        "id": "md-GWJY1yEKL",
        "outputId": "6fa34d05-a6d8-41aa-8e6f-f7bcb70d8ef2",
        "colab": {
          "base_uri": "https://localhost:8080/",
          "height": 428
        }
      },
      "source": [
        "#key()\n",
        "\n",
        "llaves=alumno.keys()#al ser iterable puede recorrese con un for\n",
        "print(llaves)\n",
        "for i in llaves:#las llaves de un diccionario son los encabezados de los datos\n",
        "  print(i.upper())#para llamar metos en un for usa el iterador\n",
        "valores=alumno.values()\n",
        "for j in valores:\n",
        "  print(j)\n",
        "\n",
        "pares = alumno.items()#esta es una lista de tuplas\n",
        "print(pares)\n",
        "for k in pares:\n",
        "  print (f\"El campo {k[0]} tiene el valor {k[1]}\")"
      ],
      "execution_count": null,
      "outputs": [
        {
          "output_type": "stream",
          "text": [
            "dict_keys(['num_cta', 'carrera', 'promedio', 'materias', 'direccion', 'nombre_completo', 'semestre'])\n",
            "NUM_CTA\n",
            "CARRERA\n",
            "PROMEDIO\n",
            "MATERIAS\n",
            "DIRECCION\n",
            "NOMBRE_COMPLETO\n",
            "SEMESTRE\n",
            "303030303\n",
            "Ingenieria en computación\n",
            "9.8\n",
            "['EDD', 'CyP', 'Calidad', 'Emprendimiento']\n",
            "{'calle': 'rancho seco', 'numero': 23, 'delegacion': 'Neza', 'estado': {'id': 15, 'nombre': 'Estado de Máxico', 'nombre_corto': 'EdoMex'}, 'CP': 57170}\n",
            "{'primer': 'Juan', 'segundo': 'Pedro', 'materno': 'Perez', 'paterno': 'Gomez'}\n",
            "3\n",
            "dict_items([('num_cta', 303030303), ('carrera', 'Ingenieria en computación'), ('promedio', 9.8), ('materias', ['EDD', 'CyP', 'Calidad', 'Emprendimiento']), ('direccion', {'calle': 'rancho seco', 'numero': 23, 'delegacion': 'Neza', 'estado': {'id': 15, 'nombre': 'Estado de Máxico', 'nombre_corto': 'EdoMex'}, 'CP': 57170}), ('nombre_completo', {'primer': 'Juan', 'segundo': 'Pedro', 'materno': 'Perez', 'paterno': 'Gomez'}), ('semestre', 3)])\n",
            "El campo num_cta tiene el valor 303030303\n",
            "El campo carrera tiene el valor Ingenieria en computación\n",
            "El campo promedio tiene el valor 9.8\n",
            "El campo materias tiene el valor ['EDD', 'CyP', 'Calidad', 'Emprendimiento']\n",
            "El campo direccion tiene el valor {'calle': 'rancho seco', 'numero': 23, 'delegacion': 'Neza', 'estado': {'id': 15, 'nombre': 'Estado de Máxico', 'nombre_corto': 'EdoMex'}, 'CP': 57170}\n",
            "El campo nombre_completo tiene el valor {'primer': 'Juan', 'segundo': 'Pedro', 'materno': 'Perez', 'paterno': 'Gomez'}\n",
            "El campo semestre tiene el valor 3\n"
          ],
          "name": "stdout"
        }
      ]
    },
    {
      "cell_type": "code",
      "metadata": {
        "id": "Li2LSwuf1Lya"
      },
      "source": [
        "computadora = {\"procesador\":\"intel 17\",\"ram\":\"kingston 128GB\"}\n",
        "otros={\"monitor\":\"LG 49\\\"\",\"HD\":\"Toshiba 1TB\"}\n",
        "computadora.update(otros)#concatenar 2 diccionarios\n",
        "print(computadora)"
      ],
      "execution_count": null,
      "outputs": []
    },
    {
      "cell_type": "markdown",
      "metadata": {
        "id": "mUTq1HfE2oXm"
      },
      "source": [
        "#funciones\n",
        "-son unidades de codigo reutilizable\n",
        "-es un mecanismo de organizacion de codigo\n",
        "-Una funcion toma de 0 a n parametros de entrada\n",
        "-tiene una sola salida (return) de cualquier tipo de dato\n",
        "-solo puedes hacer dos cosas:\n",
        "      definirla\n",
        "      llamarla\n",
        "-se definen con la palabra reservada 'def'"
      ]
    },
    {
      "cell_type": "code",
      "metadata": {
        "id": "mbsuBhMQ3_um"
      },
      "source": [
        "def sumar(x, y):#declarando una funcion\n",
        "  resultado = x+y\n",
        "  return resultado#esta es su salida\n",
        "def saludar(nombre):\n",
        "  print(f\" Hola {nombre}, ¿Como estas?\")\n",
        "\n",
        "# procesar None\n",
        "\n",
        "def multiplicar(valor,veces):\n",
        "  if valor != None:\n",
        "    c=valor*veces\n",
        "  else:\n",
        "    c=\"operacion no valida\"\n",
        "  return c\n",
        "\n",
        "def operacion (a,b,c):\n",
        "  resultado = a+ (b/c)\n",
        "  return resultado\n",
        "\n",
        "print (sumar(10,5))\n",
        "print (sumar(2,6))\n",
        "saludar(\"Jesus\")\n",
        "print(saludar(\"Jose\"))\n",
        "print(multiplicar(5,6))\n",
        "print(multiplicar(None,6))\n",
        "\n",
        "print(operacion(2,9,3))#los parametros son posicionales, respetan el mismo orden de la función\n",
        "print(operacion(2,3,9))\n",
        "print(operacion(a=2,c=3,b=9))\n"
      ],
      "execution_count": null,
      "outputs": []
    },
    {
      "cell_type": "code",
      "metadata": {
        "id": "5NjQ6Lu2-jd6"
      },
      "source": [
        "#valores por defecto\n",
        "def comanda(primer, fuerte, postre=\"galletas animalitos\"):\n",
        "  print(f\"De entrada pidio: {primer}\")\n",
        "  print(f\"De plato fuerte: {fuerte}\")\n",
        "  print(f\"De postre pidio: {postre}\")\n",
        "\n",
        "#argumentos posicionales con tuplas *\n",
        "def comanda_2(*opciones):\n",
        "  print(opciones)\n",
        "  print(f\"De entrada pidio: {opciones[0]}\")\n",
        "  print(f\"De plato fuerte: {opciones[1]}\")\n",
        "  print(f\"De postre pidio: {opciones[2]}\")\n",
        "  print(\"Indicaciones extra:\")\n",
        "  for indicaciones in opciones[3::]:\n",
        "    print(f\"\\t {indicaciones}\")\n",
        "\n",
        "comanda(\"sopa aguada\",\"tortas de papa\",\"gelatina de limmon\")\n",
        "comanda(\"sopa aguada\",\"tortas de papa\")\n",
        "comanda_2(\"sopa aguada\",\"tortas de papa\",\"gelatina de limmon\", \"las tortas bien doradas\", \"traer dos limones\", \"agua con hielo\")\n"
      ],
      "execution_count": null,
      "outputs": []
    },
    {
      "cell_type": "code",
      "metadata": {
        "id": "Vxup_JgzB7dc",
        "outputId": "2ca19660-5440-40d1-f223-54062ec1c998",
        "colab": {
          "base_uri": "https://localhost:8080/",
          "height": 156
        }
      },
      "source": [
        "#argumentos posicionados con diccionarios **\n",
        "def comanda_3 (**opciones):\n",
        "  print(opciones)\n",
        "  for op in opciones.items():\n",
        "    print(f\"{op[0]} -> {op[1]}\")\n",
        "\n",
        "comanda_3(primer=\"sopa aguada\",fuerte=\"tortas de papa\",postre=\"gelatina de limmon\", \n",
        "          extra1=\"las tortas bien doradas\", extra2=\"traer dos limones\", extra3=\"agua con hielo\")\n"
      ],
      "execution_count": null,
      "outputs": [
        {
          "output_type": "stream",
          "text": [
            "{'primer': 'sopa aguada', 'fuerte': 'tortas de papa', 'postre': 'gelatina de limmon', 'extra1': 'las tortas bien doradas', 'extra2': 'traer dos limones', 'extra3': 'agua con hielo'}\n",
            "primer -> sopa aguada\n",
            "fuerte -> tortas de papa\n",
            "postre -> gelatina de limmon\n",
            "extra1 -> las tortas bien doradas\n",
            "extra2 -> traer dos limones\n",
            "extra3 -> agua con hielo\n"
          ],
          "name": "stdout"
        }
      ]
    }
  ]
}